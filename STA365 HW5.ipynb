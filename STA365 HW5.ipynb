{
 "cells": [
  {
   "cell_type": "markdown",
   "id": "412b5f8f",
   "metadata": {},
   "source": [
    "**Part II:**"
   ]
  },
  {
   "cell_type": "markdown",
   "id": "e31fe1bc",
   "metadata": {},
   "source": [
    "1. Rewrite $p(\\beta | \\Sigma, X, y)$ in terms of $\\sigma^2$ (no longer using $\\Sigma$ if $\\Sigma = \\sigma^2 I$):\n",
    "$$ p(\\beta | \\sigma^2, X, y) \\propto \\exp\\left(-\\frac{1}{2\\sigma^2}(y - X\\beta)^T(y - X\\beta)\\right) $$\n",
    "\n",
    "\n",
    "2. What is $E[\\beta | \\Sigma, X, y]$?\n",
    "$$ E[\\beta | \\Sigma, X, y] = (X^TX)^{-1}X^Ty $$\n",
    "\n",
    "\n",
    "3. What hyperparameters values (legal or illegal) would make $E[\\beta | \\Sigma, X, y] = (X^TX)^{-1}X^Ty$?\n",
    "$$ \\text{Legal values would be any that result in a proper inverse of } (X^TX). \\text{Illegal values would be those that make } (X^TX) \\text{ singular.} $$\n",
    "\n",
    "\n",
    "4. What hyperparameters values (legal or illegal) would make $E[y] = X\\beta$?\n",
    "$$ \\text{Any values for } \\beta \\text{ that satisfy the equation } E[y] = XE[\\beta], \\text{ which implies } E[\\beta] \\text{ is the mean of the posterior distribution.} $$\n",
    "\n",
    "\n",
    "5. What is $\\text{Var}[\\beta | \\Sigma, X, y]$?\n",
    "$$ \\text{Var}[\\beta | \\Sigma, X, y] = \\sigma^2(X^TX)^{-1} $$\n",
    "\n"
   ]
  },
  {
   "cell_type": "code",
   "execution_count": null,
   "id": "9b59bf66",
   "metadata": {},
   "outputs": [],
   "source": []
  }
 ],
 "metadata": {
  "kernelspec": {
   "display_name": "Python 3 (ipykernel)",
   "language": "python",
   "name": "python3"
  },
  "language_info": {
   "codemirror_mode": {
    "name": "ipython",
    "version": 3
   },
   "file_extension": ".py",
   "mimetype": "text/x-python",
   "name": "python",
   "nbconvert_exporter": "python",
   "pygments_lexer": "ipython3",
   "version": "3.11.6"
  }
 },
 "nbformat": 4,
 "nbformat_minor": 5
}
